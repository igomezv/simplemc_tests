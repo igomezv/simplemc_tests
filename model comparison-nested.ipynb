{
 "cells": [
  {
   "cell_type": "code",
   "execution_count": 2,
   "id": "167b0d39",
   "metadata": {},
   "outputs": [
    {
     "name": "stdout",
     "output_type": "stream",
     "text": [
      "Hello, World! I am process 0 of 1 on isidro-pc\n",
      "Initalizing nu density look up table... Done\n"
     ]
    }
   ],
   "source": [
    "import numpy as np\n",
    "from simplemc.DriverMC import DriverMC\n",
    "import corner\n",
    "from getdist import plots, MCSamples\n",
    "import getdist;"
   ]
  },
  {
   "cell_type": "code",
   "execution_count": 3,
   "id": "e39362dc",
   "metadata": {},
   "outputs": [
    {
     "name": "stdout",
     "output_type": "stream",
     "text": [
      "Loading  simplemc/data/jla_binned_distances_31nodes_v1.txt\n",
      "Loading  simplemc/data/cov_jla_binned_distances_31nodes_v1.txt\n",
      "Eigenvalues of cov matrix: [0.0005070806003107887, 0.0005683516014088356, 0.000739250907386215] ... 0.03645982276128593\n",
      "Adding marginalising constant\n",
      "Loading  simplemc/data/HDiagramCompilacion-data_31.txt\n",
      "Loading  simplemc/data/HDiagramCompilacion-cov_31.txt\n",
      "Eigenvalues of cov matrix: [16.0, 25.0, 64.0] ... 3844.0\n",
      "Adding marginalising constant\n",
      "Free parameters:\n",
      "Om = 0.3038 +/- 0.05\n",
      "Obh2 = 0.02234 +/- 0.001\n",
      "h = 0.6821 +/- 0.05\n"
     ]
    }
   ],
   "source": [
    "analysislcdm = DriverMC(analyzername='nested', model='LCDM', datasets='SN+HD', mcevidence=True);"
   ]
  },
  {
   "cell_type": "code",
   "execution_count": null,
   "id": "aa826b8a",
   "metadata": {},
   "outputs": [
    {
     "name": "stderr",
     "output_type": "stream",
     "text": [
      "INFO:simplemc:Using 1 processor\n",
      "INFO:simplemc:\n",
      "\tnlivepoints: 200\n",
      "\taccuracy: 0.01\n",
      "\tnested type: multi\n"
     ]
    },
    {
     "name": "stdout",
     "output_type": "stream",
     "text": [
      "it: 341 | ncall: 1237 | eff: 27.648 | logz: -39.4624 | dlogz: 13.8096 | loglstar: -35.6944 | point 0.45344414 0.02238169 0.57783458"
     ]
    }
   ],
   "source": [
    "reslcdm = analysislcdm.executer(nlivepoints=200);"
   ]
  },
  {
   "cell_type": "code",
   "execution_count": null,
   "id": "67832954",
   "metadata": {},
   "outputs": [],
   "source": [
    "pars_labels_lcdm = ['${}$'.format(p.Ltxname) for p in analysislcdm.pars_info]"
   ]
  },
  {
   "cell_type": "code",
   "execution_count": null,
   "id": "f309a7bb",
   "metadata": {},
   "outputs": [],
   "source": [
    "samples_lcdm = reslcdm['result']['samples']\n",
    "weights_lcdm = reslcdm['result']['weights']"
   ]
  },
  {
   "cell_type": "code",
   "execution_count": null,
   "id": "16f185cf",
   "metadata": {},
   "outputs": [],
   "source": [
    "om1_lcdm = reslcdm['result']['samples'][:,0]\n",
    "obh21_lcdm = reslcdm['result']['samples'][:,1]\n",
    "h1_lcdm = reslcdm['result']['samples'][:,2]"
   ]
  },
  {
   "cell_type": "markdown",
   "id": "01757519",
   "metadata": {},
   "source": [
    "CPL"
   ]
  },
  {
   "cell_type": "code",
   "execution_count": null,
   "id": "41607752",
   "metadata": {},
   "outputs": [],
   "source": [
    "analysiscpl = DriverMC(analyzername='nested', model='waCDM', datasets='SN+HD');"
   ]
  },
  {
   "cell_type": "code",
   "execution_count": null,
   "id": "ff3333b5",
   "metadata": {},
   "outputs": [],
   "source": [
    "rescpl = analysiscpl.executer(nlivepoints=200);"
   ]
  },
  {
   "cell_type": "code",
   "execution_count": null,
   "id": "a41ec8a5",
   "metadata": {},
   "outputs": [],
   "source": [
    "samples_cpl = rescpl['result']['samples']\n",
    "weights_cpl = rescpl['result']['weights']"
   ]
  },
  {
   "cell_type": "code",
   "execution_count": null,
   "id": "f5755312",
   "metadata": {},
   "outputs": [],
   "source": [
    "om1_cpl = rescpl['result']['samples'][:,0]\n",
    "obh21_cpl = rescpl['result']['samples'][:,1]\n",
    "h1_cpl = rescpl['result']['samples'][:,2]"
   ]
  },
  {
   "cell_type": "markdown",
   "id": "f4cfaccf",
   "metadata": {},
   "source": [
    "PolyCDM"
   ]
  },
  {
   "cell_type": "code",
   "execution_count": null,
   "id": "db4ae446",
   "metadata": {},
   "outputs": [],
   "source": [
    "analysispoly = DriverMC(analyzername='nested', model='PolyCDM', datasets='SN+HD');"
   ]
  },
  {
   "cell_type": "code",
   "execution_count": null,
   "id": "72f1ece9",
   "metadata": {},
   "outputs": [],
   "source": [
    "respoly = analysispoly.executer(nlivepoints=200);"
   ]
  },
  {
   "cell_type": "code",
   "execution_count": null,
   "id": "7b7e23b8",
   "metadata": {},
   "outputs": [],
   "source": [
    "samples_poly = respoly['result']['samples']\n",
    "weights_poly = respoly['result']['weights']"
   ]
  },
  {
   "cell_type": "code",
   "execution_count": null,
   "id": "1f4d30a0",
   "metadata": {},
   "outputs": [],
   "source": [
    "om1_poly = respoly['result']['samples'][:,0]\n",
    "obh21_poly = respoly['result']['samples'][:,1]\n",
    "h1_poly = respoly['result']['samples'][:,2]"
   ]
  },
  {
   "cell_type": "markdown",
   "id": "1ffe9071",
   "metadata": {},
   "source": [
    "Plots"
   ]
  },
  {
   "cell_type": "code",
   "execution_count": null,
   "id": "c32c24fb",
   "metadata": {},
   "outputs": [],
   "source": [
    "labels1 =  ['{}'.format(p.Ltxname) for p in analysislcdm.pars_info]\n",
    "labels2 =  ['{}'.format(p.Ltxname) for p in analysiscpl.pars_info]\n",
    "labels3 =  ['{}'.format(p.Ltxname) for p in analysispoly.pars_info]\n",
    "\n",
    "\n",
    "samp1 = MCSamples(samples=samples_lcdm, names=labels1, labels = labels1, label=r'$\\Lambda CDM$')\n",
    "samp2 = MCSamples(samples=samples_cpl, names = labels2, labels = labels2, label=r'$CPL$')\n",
    "samp3 = MCSamples(samples=samples_poly, names = labels3, labels = labels3, label=r'$PolyCDM$')"
   ]
  },
  {
   "cell_type": "code",
   "execution_count": null,
   "id": "ced9f8be",
   "metadata": {},
   "outputs": [],
   "source": [
    "g = plots.get_subplot_plotter()\n",
    "g.triangle_plot([samp1, samp2, samp3], filled=False, line_args={'lw':1},\n",
    "#                 settings={ 'smooth_scale_2D':0.1, 'smooth_scale_1D':0.1},\n",
    "                alphas=[1, 1, 1],  \n",
    "                analysis_settings={'ignore_rows':0.1, 'contours':[0.2, 0.4, 0.6]})\n",
    "#                 ,  'smooth_scale_2D':0.9, 'smooth_scale_1D':0.5})\n",
    "\n",
    "# plt.savefig('wacdm_samplers_getdist2.png', dpi=300)"
   ]
  },
  {
   "cell_type": "code",
   "execution_count": null,
   "id": "61e5f999",
   "metadata": {},
   "outputs": [],
   "source": []
  }
 ],
 "metadata": {
  "kernelspec": {
   "display_name": "Python 3",
   "language": "python",
   "name": "python3"
  },
  "language_info": {
   "codemirror_mode": {
    "name": "ipython",
    "version": 3
   },
   "file_extension": ".py",
   "mimetype": "text/x-python",
   "name": "python",
   "nbconvert_exporter": "python",
   "pygments_lexer": "ipython3",
   "version": "3.8.8"
  }
 },
 "nbformat": 4,
 "nbformat_minor": 5
}
