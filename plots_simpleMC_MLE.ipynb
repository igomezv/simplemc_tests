{
 "cells": [
  {
   "cell_type": "code",
   "execution_count": 1,
   "id": "93bcbb45",
   "metadata": {},
   "outputs": [
    {
     "name": "stdout",
     "output_type": "stream",
     "text": [
      "Hello, World! I am process 0 of 1 on isidro-pc\n",
      "Initalizing nu density look up table... Done\n"
     ]
    }
   ],
   "source": [
    "import numpy as np\n",
    "import numdifftools as nd\n",
    "import scipy.linalg as la\n",
    "import matplotlib.pyplot as plt\n",
    "from simplemc.DriverMC import DriverMC\n",
    "from simplemc.plots.Plot_elipses import plot_elipses"
   ]
  },
  {
   "cell_type": "code",
   "execution_count": 8,
   "id": "c4682e86",
   "metadata": {},
   "outputs": [
    {
     "name": "stdout",
     "output_type": "stream",
     "text": [
      "Loading  simplemc/data/HDiagramCompilacion-data_31.txt\n",
      "Loading  simplemc/data/HDiagramCompilacion-cov_31.txt\n",
      "Eigenvalues of cov matrix: [16.0, 25.0, 64.0] ... 3844.0\n",
      "Adding marginalising constant\n",
      "Free parameters:\n",
      "Om = 0.3038 +/- 0.05\n",
      "Obh2 = 0.02234 +/- 0.001\n",
      "h = 0.6821 +/- 0.05\n",
      "w = -1.379551062126513 +/- 0.1\n",
      "wa = 1.397450412257064 +/- 0.1\n"
     ]
    }
   ],
   "source": [
    "analyzer = DriverMC(analyzername=\"ga_deap\", model=\"waCDM\", datasets=\"HD\")"
   ]
  },
  {
   "cell_type": "code",
   "execution_count": 9,
   "id": "9e7b7654",
   "metadata": {},
   "outputs": [
    {
     "name": "stdout",
     "output_type": "stream",
     "text": [
      "Minimizing... [0.3038, 0.02234, 0.6821, -1.379551062126513, 1.397450412257064] with bounds [(0.1, 0.5), (0.02, 0.025), (0.4, 0.9), (-2.0, 0.0), (-2.0, 2.0)]\n",
      "gen\tnevals\tmin    \tavg    \n",
      "0  \t20    \t11.6487\t69.2741\n",
      "1  \t18    \t11.6487\t32.6182\n",
      "2  \t17    \t11.6487\t30.8916\n",
      "3  \t12    \t11.6487\t29.9165\n",
      "4  \t15    \t11.4825\t24.5712\n",
      "5  \t15    \t9.49637\t26.9121\n",
      "6  \t18    \t9.49637\t26.2381\n",
      "7  \t18    \t9.49637\t21.0124\n",
      "8  \t14    \t9.49637\t14.1585\n",
      "9  \t11    \t9.40176\t11.0229\n",
      "10 \t15    \t9.35222\t10.3676\n",
      "11 \t14    \t9.34521\t15.3509\n",
      "12 \t15    \t8.638  \t9.66273\n",
      "13 \t15    \t7.97928\t10.957 \n",
      "14 \t18    \t7.97928\t17.3184\n",
      "15 \t14    \t7.87234\t13.5047\n",
      "16 \t15    \t7.58708\t10.3725\n",
      "17 \t15    \t7.55025\t9.63224\n",
      "18 \t14    \t7.35494\t8.37563\n",
      "19 \t16    \t7.35494\t8.74775\n",
      "20 \t16    \t7.35494\t7.9792 \n",
      "21 \t15    \t7.35494\t11.4154\n",
      "22 \t11    \t7.35043\t9.12059\n",
      "23 \t16    \t7.23306\t10.1911\n",
      "24 \t15    \t7.23306\t8.19012\n",
      "25 \t10    \t7.23306\t12.0633\n",
      "26 \t16    \t7.22809\t8.30013\n",
      "27 \t9     \t7.22475\t12.6824\n",
      "28 \t13    \t7.22475\t8.6724 \n",
      "29 \t13    \t7.20739\t7.39951\n",
      "30 \t17    \t7.20739\t8.34043\n",
      "31 \t11    \t7.1826 \t13.0231\n",
      "32 \t10    \t7.1826 \t7.53619\n",
      "33 \t14    \t7.1826 \t9.36889\n",
      "34 \t15    \t7.1826 \t8.90441\n",
      "35 \t14    \t7.16586\t9.07732\n",
      "36 \t13    \t7.16586\t8.09377\n",
      "37 \t12    \t7.16586\t10.8067\n",
      "38 \t15    \t7.16586\t7.32054\n",
      "39 \t13    \t7.16528\t10.7532\n",
      "40 \t12    \t7.15914\t7.30716\n",
      "41 \t11    \t7.15914\t10.0974\n",
      "42 \t11    \t7.15914\t8.30463\n",
      "43 \t13    \t7.15914\t7.45922\n",
      "44 \t16    \t7.15914\t8.36572\n",
      "45 \t13    \t7.15914\t7.6606 \n",
      "46 \t13    \t7.15889\t9.67368\n",
      "47 \t14    \t7.15889\t7.98599\n",
      "48 \t14    \t7.15788\t7.47307\n",
      "49 \t8     \t7.15787\t7.1588 \n",
      "50 \t14    \t7.15787\t7.8647 \n",
      "51 \t17    \t7.15787\t10.5621\n",
      "52 \t12    \t7.15787\t15.0274\n",
      "53 \t16    \t7.15787\t8.55488\n",
      "54 \t13    \t7.15787\t9.82433\n",
      "55 \t16    \t7.15787\t15.5593\n",
      "56 \t15    \t7.15787\t7.37047\n",
      "57 \t17    \t7.15786\t8.49593\n",
      "58 \t8     \t7.15786\t14.4618\n",
      "59 \t16    \t7.15786\t7.79024\n",
      "60 \t12    \t7.15786\t8.82431\n",
      "61 \t17    \t7.15786\t13.8829\n",
      "62 \t14    \t7.15786\t9.29214\n",
      "63 \t14    \t7.15785\t12.5496\n",
      "64 \t15    \t7.15785\t8.13581\n",
      "65 \t16    \t7.15785\t8.05201\n",
      "66 \t13    \t7.15785\t19.7629\n",
      "67 \t13    \t7.15785\t15.5026\n",
      "68 \t16    \t7.15785\t11.3509\n",
      "69 \t17    \t7.15785\t9.41559\n",
      "70 \t13    \t7.15785\t8.1159 \n",
      "71 \t9     \t7.15785\t9.16384\n",
      "72 \t14    \t7.15785\t7.78996\n",
      "73 \t18    \t7.15785\t12.8366\n",
      "74 \t16    \t7.15785\t10.3092\n",
      "75 \t16    \t7.15785\t7.63157\n",
      "76 \t17    \t7.15785\t11.5506\n",
      "77 \t14    \t7.15785\t10.2558\n",
      "78 \t17    \t7.15785\t14.4065\n",
      "79 \t15    \t7.15785\t8.22165\n",
      "80 \t18    \t7.15785\t7.62349\n",
      "81 \t12    \t7.15785\t47.7565\n",
      "82 \t15    \t7.15777\t9.47148\n",
      "83 \t17    \t7.15777\t8.40986\n",
      "84 \t18    \t7.15777\t7.5006 \n",
      "85 \t8     \t7.15777\t7.7648 \n",
      "86 \t14    \t7.15764\t8.17381\n",
      "87 \t16    \t7.15764\t22.6433\n",
      "88 \t13    \t7.15764\t7.4722 \n",
      "89 \t15    \t7.15764\t9.61678\n",
      "90 \t17    \t7.15764\t9.05025\n",
      "91 \t16    \t7.15764\t12.1384\n",
      "92 \t16    \t7.1576 \t11.3298\n",
      "93 \t17    \t7.1576 \t8.31495\n",
      "94 \t14    \t7.1576 \t8.34851\n",
      "95 \t11    \t7.1576 \t8.47933\n",
      "96 \t13    \t7.1576 \t7.96784\n",
      "97 \t12    \t7.1576 \t9.07529\n",
      "98 \t16    \t7.1576 \t7.91434\n",
      "99 \t13    \t7.1576 \t13.1947\n",
      "100\t15    \t7.1576 \t9.13321\n",
      "-- Best Fitness =  7.157603178864142\n",
      "- Best solutions are:\n",
      "-- Best Om =  0.3064505367839241\n",
      "-- Best Obh2 =  0.022020245928164737\n",
      "-- Best h =  0.7178127454527121\n",
      "-- Best w =  -1.38762721219297\n",
      "-- Best wa =  0.7091935692539502\n"
     ]
    },
    {
     "name": "stderr",
     "output_type": "stream",
     "text": [
      "/home/isidro/anaconda3/lib/python3.8/site-packages/numdifftools/finite_difference.py:282: ComplexWarning: Casting complex values to real discards the imaginary part\n",
      "  hess[i, i] = (f(x + 2 * e_i) - 2 * f_x + f(x - 2 * e_i)) / (4. * hess[i, i])\n",
      "/home/isidro/anaconda3/lib/python3.8/site-packages/numdifftools/finite_difference.py:285: ComplexWarning: Casting complex values to real discards the imaginary part\n",
      "  hess[i, j] = (f(x + e_i + e_j) - f(x + e_i - e_j)\n",
      "INFO:simplemc:\n",
      "Elapsed time: 0.136 minutes = 8.144 seconds\n"
     ]
    },
    {
     "name": "stdout",
     "output_type": "stream",
     "text": [
      "Hessian [[9.32831624e+02 0.00000000e+00 9.24911253e+02 1.06758866e+02\n",
      "  3.19586471e+01]\n",
      " [0.00000000e+00 4.72589792e+06 0.00000000e+00 0.00000000e+00\n",
      "  0.00000000e+00]\n",
      " [9.24911253e+02 0.00000000e+00 1.31769453e+03 1.45800277e+02\n",
      "  3.14474436e+01]\n",
      " [1.06758866e+02 0.00000000e+00 1.45800277e+02 1.82543752e+01\n",
      "  3.96849691e+00]\n",
      " [3.19586471e+01 0.00000000e+00 3.14474436e+01 3.96849691e+00\n",
      "  1.19050925e+00]] [2.08669426e+03+0.j 1.81149505e+02+0.j 3.97151483e-02+0.j\n",
      " 2.08755659e+00+0.j 4.72589792e+06+0.j]\n",
      "Covariance matrix \n",
      " [[ 2.92050347e-02  0.00000000e+00 -1.50578023e-02  1.21444632e-01\n",
      "  -7.91070417e-01]\n",
      " [ 0.00000000e+00  2.11600000e-07 -0.00000000e+00  0.00000000e+00\n",
      "  -0.00000000e+00]\n",
      " [-1.50578023e-02  0.00000000e+00  1.43005645e-02 -1.15908694e-01\n",
      "   4.12843570e-01]\n",
      " [ 1.21444632e-01  0.00000000e+00 -1.15908694e-01  1.13846914e+00\n",
      "  -3.99340471e+00]\n",
      " [-7.91070417e-01  0.00000000e+00  4.12843570e-01 -3.99340471e+00\n",
      "   2.44823629e+01]]\n",
      "Om: 0.3065 +/- 0.1709\n",
      "Obh2: 0.0220 +/- 0.0005\n",
      "h: 0.7178 +/- 0.1196\n",
      "w: -1.3876 +/- 1.0670\n",
      "wa: 0.7092 +/- 4.9480\n"
     ]
    }
   ],
   "source": [
    "res = analyzer.executer()"
   ]
  },
  {
   "cell_type": "code",
   "execution_count": 10,
   "id": "2c29a225",
   "metadata": {},
   "outputs": [
    {
     "data": {
      "text/plain": [
       "{'analyzer': 'ga_deap',\n",
       " 'max_generations': 100,\n",
       " 'mutation': 0.3,\n",
       " 'crossover': 0.7,\n",
       " 'result': {'population': 20,\n",
       "  'no_generations': 100,\n",
       "  'param_fit': [0.3064505367839241,\n",
       "   0.022020245928164737,\n",
       "   0.7178127454527121,\n",
       "   -1.38762721219297,\n",
       "   0.7091935692539502],\n",
       "  'best_fitness': 7.157603178864142,\n",
       "  'cov': array([[ 2.92050347e-02,  0.00000000e+00, -1.50578023e-02,\n",
       "           1.21444632e-01, -7.91070417e-01],\n",
       "         [ 0.00000000e+00,  2.11600000e-07, -0.00000000e+00,\n",
       "           0.00000000e+00, -0.00000000e+00],\n",
       "         [-1.50578023e-02,  0.00000000e+00,  1.43005645e-02,\n",
       "          -1.15908694e-01,  4.12843570e-01],\n",
       "         [ 1.21444632e-01,  0.00000000e+00, -1.15908694e-01,\n",
       "           1.13846914e+00, -3.99340471e+00],\n",
       "         [-7.91070417e-01,  0.00000000e+00,  4.12843570e-01,\n",
       "          -3.99340471e+00,  2.44823629e+01]]),\n",
       "  'weights': None,\n",
       "  'samples': None},\n",
       " 'time': 8.143927097320557}"
      ]
     },
     "execution_count": 10,
     "metadata": {},
     "output_type": "execute_result"
    }
   ],
   "source": [
    "res"
   ]
  },
  {
   "cell_type": "code",
   "execution_count": 11,
   "id": "c9ad8fa8",
   "metadata": {},
   "outputs": [
    {
     "data": {
      "text/plain": [
       "(list, (5,))"
      ]
     },
     "execution_count": 11,
     "metadata": {},
     "output_type": "execute_result"
    }
   ],
   "source": [
    "resx = res['result']['param_fit']\n",
    "type(resx), np.shape(resx)"
   ]
  },
  {
   "cell_type": "code",
   "execution_count": 12,
   "id": "f53c8875",
   "metadata": {},
   "outputs": [
    {
     "data": {
      "text/plain": [
       "(numpy.ndarray, (5, 5))"
      ]
     },
     "execution_count": 12,
     "metadata": {},
     "output_type": "execute_result"
    }
   ],
   "source": [
    "cov = res['result']['cov']\n",
    "type(cov), np.shape(cov)"
   ]
  },
  {
   "cell_type": "code",
   "execution_count": 13,
   "id": "fdbd8882",
   "metadata": {},
   "outputs": [
    {
     "name": "stdout",
     "output_type": "stream",
     "text": [
      "(5, 5)\n"
     ]
    },
    {
     "data": {
      "image/png": "[encoded data removed]",
      "text/plain": [
       "<Figure size 576x576 with 1 Axes>"
      ]
     },
     "metadata": {
      "needs_background": "light"
     },
     "output_type": "display_data"
    }
   ],
   "source": [
    "\n",
    "print(np.shape(cov))\n",
    "\n",
    "idx_param1 = 0\n",
    "idx_param2 = 2\n",
    "\n",
    "fig = plt.figure(figsize=(8,8))\n",
    "ax = fig.add_subplot(111)\n",
    "plot_elipses(resx, cov, idx_param1, idx_param2, ax=ax)\n"
   ]
  },
  {
   "cell_type": "code",
   "execution_count": null,
   "id": "8c4f7e03",
   "metadata": {},
   "outputs": [],
   "source": []
  }
 ],
 "metadata": {
  "kernelspec": {
   "display_name": "Python 3",
   "language": "python",
   "name": "python3"
  },
  "language_info": {
   "codemirror_mode": {
    "name": "ipython",
    "version": 3
   },
   "file_extension": ".py",
   "mimetype": "text/x-python",
   "name": "python",
   "nbconvert_exporter": "python",
   "pygments_lexer": "ipython3",
   "version": "3.8.8"
  }
 },
 "nbformat": 4,
 "nbformat_minor": 5
}
