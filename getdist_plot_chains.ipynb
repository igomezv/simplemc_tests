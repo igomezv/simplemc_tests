{
 "cells": [
  {
   "cell_type": "code",
   "execution_count": 1,
   "metadata": {},
   "outputs": [],
   "source": [
    "import matplotlib.pyplot as plt\n",
    "from getdist import plots, MCSamples\n",
    "from getdist import *\n",
    "\n",
    "# import planckStyle\n",
    "import pylab\n",
    "import numpy as np\n",
    "import matplotlib\n",
    "import tkinter\n",
    "\n",
    "matplotlib.use('TkAgg')\n",
    "\n",
    "\n",
    "%matplotlib inline\n"
   ]
  },
  {
   "cell_type": "code",
   "execution_count": 2,
   "metadata": {},
   "outputs": [],
   "source": [
    "dir_name = '/home/cosmocicatais/simpleMC_own/chains_test/'\n",
    "\n",
    "\n",
    "roots = [\n",
    "          'LCDM_phy_HD_nested_dynesty_multi',\n",
    "          'LCDM_phy_HD_neuralike_nested_dynesty_multi_new',\n",
    "          'LCDM_phy_HD_nested_dynesty_multi_ANN'\n",
    "]\n",
    "\n"
   ]
  },
  {
   "cell_type": "code",
   "execution_count": null,
   "metadata": {},
   "outputs": [
    {
     "name": "stderr",
     "output_type": "stream",
     "text": [
      "WARNING:root:outlier fraction 0.21856540084388185 \n"
     ]
    },
    {
     "name": "stdout",
     "output_type": "stream",
     "text": [
      "/home/cosmocicatais/simpleMC_own/chains_test/LCDM_phy_HD_neuralike_nested_dynesty_multi_new_1.txt\n",
      "Removed 0.1 as burn in\n"
     ]
    }
   ],
   "source": [
    "g = plots.getSinglePlotter(chain_dir = dir_name, width_inch= 10,\n",
    "                          ratio = 0.9, \n",
    "                          analysis_settings={'smooth_scale_2D': 0.9,\n",
    "                                             'smooth_scale_1D': 0.9, \n",
    "                                             'ignore_rows': 0.1})\n",
    "#g.settings.axes_fontsize = 5\n",
    "g.settings.lab_fontsize = 15\n",
    "g.settings.x_label_rotation= 45\n",
    "#g.settings.alpha_filled_add = 0.9\n",
    "g.settings.legend_fontsize = 15\n",
    "g.settings.axes_fontsize = 15   \n",
    "# g.settings.lw1 = 0.5\n",
    "\n",
    "g.triangle_plot(roots, ['Om', 'Obh2', 'h'],\n",
    "                diag1d_kwargs={'colors':['black', 'red','blue','black', 'yellow'], \n",
    "                               'alphas':[1.0,1.0,1.0]},\n",
    "                colors=['black', 'red','blue',  'black', 'yellow'],\n",
    "#                 alphas = [1.0, 0.7, 0.5],\n",
    "                legend_labels=['Analytical', '+ANN', 'bambi'],\n",
    "                legend_loc='upper right',\n",
    "                filled = False,\n",
    "                normalized=False, shaded=False)\n",
    "        \n",
    "#plt.show()\n",
    "#plt.savefig('TrianglewaCDMHz', dpi=80)"
   ]
  },
  {
   "cell_type": "code",
   "execution_count": null,
   "metadata": {},
   "outputs": [],
   "source": [
    "plt.figure(figsize=(10, 10), dpi=100)\n",
    "\n",
    "gg= plots.getSinglePlotter(chain_dir = dir_name, width_inch= 10,\n",
    "                          ratio = 0.8, \n",
    "                          analysis_settings={'smooth_scale_2D': 0.5,\n",
    "                                             'smooth_scale_1D': 0.5, \n",
    "                                             'ignore_rows': 0.1})\n",
    "\n",
    "gg.settings.lab_fontsize = 25\n",
    "gg.settings.x_label_rotation= 45\n",
    "gg.settings.legend_fontsize = 24\n",
    "gg.settings.axes_fontsize = 25 \n",
    "\n",
    "# plt.figure(figsize=(10,8))\n",
    "gg.plot_2d(roots, 'Om', 'h', colors=['black', 'red'], \n",
    "          filled=True, alphas = [0.8, 0.7, 0.6], \n",
    "          legend_loc='upper right')\n",
    "\n",
    "gg.add_legend(['Original', 'FFNN', 'BAMBI'])\n",
    "\n",
    "# gg.add_x_marker(-1, color='green', lw=3.0)\n",
    "# gg.add_y_marker(0, color='green', lw=3.0)\n",
    "# plt.ylim(-3.1,3.1)\n",
    "# plt.xlim(-2.5,0.5)\n"
   ]
  },
  {
   "cell_type": "code",
   "execution_count": null,
   "metadata": {},
   "outputs": [],
   "source": []
  }
 ],
 "metadata": {
  "kernelspec": {
   "display_name": "Python 3",
   "language": "python",
   "name": "python3"
  },
  "language_info": {
   "codemirror_mode": {
    "name": "ipython",
    "version": 3
   },
   "file_extension": ".py",
   "mimetype": "text/x-python",
   "name": "python",
   "nbconvert_exporter": "python",
   "pygments_lexer": "ipython3",
   "version": "3.8.5"
  }
 },
 "nbformat": 4,
 "nbformat_minor": 4
}
